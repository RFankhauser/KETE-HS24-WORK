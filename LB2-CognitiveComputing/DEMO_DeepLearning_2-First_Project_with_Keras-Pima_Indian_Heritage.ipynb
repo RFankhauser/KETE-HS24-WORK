{
  "cells": [
    {
      "cell_type": "markdown",
      "metadata": {
        "id": "nEB8FZNulZxO"
      },
      "source": [
        "<a href=\"https://colab.research.google.com/github/sawubona-repo/KETE-HS23-WORK/blob/main/LB2-CognitiveComputing/DEMO_First_Deep_Learning_Project_with_Keras.ipynb\" target=\"_parent\"><img src=\"https://colab.research.google.com/assets/colab-badge.svg\" alt=\"Open In Colab\"/></a>"
      ]
    },
    {
      "cell_type": "markdown",
      "source": [
        "# DEMO: Your First Deep Learning Project in Python with Keras Step-by-Step  "
      ],
      "metadata": {
        "id": "XqZDD69kOUoV"
      }
    },
    {
      "cell_type": "markdown",
      "metadata": {
        "id": "upVjdSFo6Vuf"
      },
      "source": [
        "*Keras* is a powerful and easy-to-use free open source Python library for developing and evaluating deep learning models.\n",
        "\n",
        "It is part of the *TensorFlow* library and allows you to define and train neural network models in just a few lines of code.\n",
        "\n",
        "In this tutorial, you will discover how to create your first deep learning neural network model in Python using Keras.\n",
        "\n",
        "Kick-start your project with my new book Deep Learning With Python, including step-by-step tutorials and the Python source code files for all examples.\n",
        "\n",
        "\n",
        "---\n",
        "Source:\n",
        "+ [Machine Learning Mastery](https://machinelearningmastery.com/tutorial-first-neural-network-python-keras/)\n",
        "\n",
        "  + Author: Jason Brownlee  \n",
        "  +  History: Last Updated on August 16, 2022\n",
        "\n",
        "+ [Case Study: Predicting the Onset of Diabetes Within Five Years](https://machinelearningmastery.com/case-study-predicting-the-onset-of-diabetes-within-five-years-part-1-of-3/)  \n",
        " + Author: Igor Shvartser\n",
        " + History: 2019\n",
        "\n",
        "---\n",
        "Data:\n",
        "+ [768 Females of **Pima Indian Heritage**](https://raw.githubusercontent.com/jbrownlee/Datasets/master/pima-indians-diabetes.data.csv)\n",
        "\n",
        "We can learn from the data found on UCI Machine Learning Repository which contains data on female patients at least 21 years old of Pima Indian heritage. We have *768 instances* and the following *8 attributes*:\n",
        "\n",
        "  + Number of times pregnant (preg)\n",
        "  + Plasma glucose concentration a 2 hours in an oral glucose tolerance test (plas)\n",
        "  + Diastolic blood pressure in mm Hg (pres)\n",
        "  + Triceps skin fold thickness in mm (skin)\n",
        "  + 2-Hour serum insulin in mu U/ml (insu)\n",
        "  + Body mass index measured as weight in kg/(height in m)^2 (mass)\n",
        "  + Diabetes pedigree function (pedi)\n",
        "  + Age in years (age)\n",
        "\n",
        "The population for this study was the Pima Indian population near Phoenix, Arizona. The population has been under continuous study since 1965 by the National Institute of Diabetes and Digestive and Kidney Diseases because of its high incidence rate of diabetes.\n",
        "\n",
        "For the purposes of this dataset, diabetes was diagnosed according to World Health Organization Criteria, which stated that if the 2 hour post-load glucose was at least 200 mg/dl at any survey exam or if the Indian Health Service Hospital serving the community found a glucose concentration of at least 200 mg/dl during the course of routine medical care.  \n",
        "\n",
        "Given the medical data we can gather about people, we should be able to make better predictions on how likely a person is to suffer the onset of diabetes, and therefore act appropriately to help.   \n",
        "\n",
        "---  \n",
        "---  \n",
        "History:\n",
        "+ 08.08.2023 v1 dbe - adapted for KETE HS23  \n",
        "\n",
        "---"
      ]
    },
    {
      "cell_type": "code",
      "execution_count": 28,
      "metadata": {
        "id": "TsSKbtcP1EGr"
      },
      "outputs": [],
      "source": [
        "# setup environment, load libraries\n",
        "from numpy import loadtxt\n",
        "\n",
        "from tensorflow.keras.models import Sequential\n",
        "from tensorflow.keras.layers import Dense"
      ]
    },
    {
      "cell_type": "code",
      "execution_count": 29,
      "metadata": {
        "id": "G3X6Z91U1wyY"
      },
      "outputs": [],
      "source": [
        "# load the dataset from github\n",
        "dataset = loadtxt(\"https://raw.githubusercontent.com/jbrownlee/Datasets/master/pima-indians-diabetes.data.csv\", delimiter=',')"
      ]
    },
    {
      "cell_type": "code",
      "source": [
        "dataset[1:3]"
      ],
      "metadata": {
        "colab": {
          "base_uri": "https://localhost:8080/"
        },
        "id": "AFA6nCIOPxXF",
        "outputId": "b6e4c521-9e6b-4911-f21a-36572e5717f5"
      },
      "execution_count": 30,
      "outputs": [
        {
          "output_type": "execute_result",
          "data": {
            "text/plain": [
              "array([[  1.   ,  85.   ,  66.   ,  29.   ,   0.   ,  26.6  ,   0.351,\n",
              "         31.   ,   0.   ],\n",
              "       [  8.   , 183.   ,  64.   ,   0.   ,   0.   ,  23.3  ,   0.672,\n",
              "         32.   ,   1.   ]])"
            ]
          },
          "metadata": {},
          "execution_count": 30
        }
      ]
    },
    {
      "cell_type": "code",
      "source": [
        "# split into input (X) and output (y) variables\n",
        "X = dataset[:,0:8]\n",
        "y = dataset[:,8]"
      ],
      "metadata": {
        "id": "FcJXH_L5O9ct"
      },
      "execution_count": 31,
      "outputs": []
    },
    {
      "cell_type": "code",
      "execution_count": 32,
      "metadata": {
        "id": "IFAQtMzx2Qxf"
      },
      "outputs": [],
      "source": [
        "import tensorflow as tf"
      ]
    },
    {
      "cell_type": "code",
      "source": [
        "# DEFINE the keras model\n",
        "\n",
        "model = tf.keras.models.Sequential([\n",
        "  tf.keras.layers.Dense(12, input_shape=(8,), activation='relu'),\n",
        "  tf.keras.layers.Dense(8, activation='relu'),\n",
        "  tf.keras.layers.Dense(1, activation='sigmoid')\n",
        "])"
      ],
      "metadata": {
        "id": "eR7YiRzVPHOI"
      },
      "execution_count": 33,
      "outputs": []
    },
    {
      "cell_type": "code",
      "execution_count": 34,
      "metadata": {
        "colab": {
          "base_uri": "https://localhost:8080/"
        },
        "id": "n_48YksO2WoH",
        "outputId": "547a5c25-fa75-4552-b1f7-7f2bb11fbea1"
      },
      "outputs": [
        {
          "output_type": "stream",
          "name": "stdout",
          "text": [
            "Model: \"sequential_2\"\n",
            "_________________________________________________________________\n",
            " Layer (type)                Output Shape              Param #   \n",
            "=================================================================\n",
            " dense_6 (Dense)             (None, 12)                108       \n",
            "                                                                 \n",
            " dense_7 (Dense)             (None, 8)                 104       \n",
            "                                                                 \n",
            " dense_8 (Dense)             (None, 1)                 9         \n",
            "                                                                 \n",
            "=================================================================\n",
            "Total params: 221 (884.00 Byte)\n",
            "Trainable params: 221 (884.00 Byte)\n",
            "Non-trainable params: 0 (0.00 Byte)\n",
            "_________________________________________________________________\n"
          ]
        }
      ],
      "source": [
        "model.summary()"
      ]
    },
    {
      "cell_type": "code",
      "execution_count": 35,
      "metadata": {
        "id": "YddcEz-j2bkX"
      },
      "outputs": [],
      "source": [
        "# COMPILE the keras model\n",
        "model.compile(loss='binary_crossentropy',\n",
        "              optimizer='adam',\n",
        "              metrics=['accuracy'\n",
        "])"
      ]
    },
    {
      "cell_type": "code",
      "execution_count": 36,
      "metadata": {
        "colab": {
          "base_uri": "https://localhost:8080/"
        },
        "id": "tsSHUzzl2jcW",
        "outputId": "cea5cc8e-61d6-4dc3-f5d7-e413baeb5a78"
      },
      "outputs": [
        {
          "output_type": "stream",
          "name": "stdout",
          "text": [
            "Epoch 1/50\n",
            "77/77 [==============================] - 1s 2ms/step - loss: 10.8286 - accuracy: 0.6328\n",
            "Epoch 2/50\n",
            "77/77 [==============================] - 0s 2ms/step - loss: 2.4378 - accuracy: 0.5872\n",
            "Epoch 3/50\n",
            "77/77 [==============================] - 0s 2ms/step - loss: 1.2786 - accuracy: 0.5664\n",
            "Epoch 4/50\n",
            "77/77 [==============================] - 0s 2ms/step - loss: 1.0307 - accuracy: 0.5924\n",
            "Epoch 5/50\n",
            "77/77 [==============================] - 0s 2ms/step - loss: 0.8994 - accuracy: 0.6263\n",
            "Epoch 6/50\n",
            "77/77 [==============================] - 0s 2ms/step - loss: 0.7643 - accuracy: 0.6432\n",
            "Epoch 7/50\n",
            "77/77 [==============================] - 0s 2ms/step - loss: 0.7324 - accuracy: 0.6615\n",
            "Epoch 8/50\n",
            "77/77 [==============================] - 0s 2ms/step - loss: 0.7231 - accuracy: 0.6523\n",
            "Epoch 9/50\n",
            "77/77 [==============================] - 0s 2ms/step - loss: 0.6853 - accuracy: 0.6758\n",
            "Epoch 10/50\n",
            "77/77 [==============================] - 0s 2ms/step - loss: 0.6594 - accuracy: 0.6706\n",
            "Epoch 11/50\n",
            "77/77 [==============================] - 0s 2ms/step - loss: 0.6738 - accuracy: 0.6706\n",
            "Epoch 12/50\n",
            "77/77 [==============================] - 0s 2ms/step - loss: 0.6725 - accuracy: 0.6810\n",
            "Epoch 13/50\n",
            "77/77 [==============================] - 0s 2ms/step - loss: 0.6511 - accuracy: 0.6654\n",
            "Epoch 14/50\n",
            "77/77 [==============================] - 0s 2ms/step - loss: 0.6347 - accuracy: 0.6836\n",
            "Epoch 15/50\n",
            "77/77 [==============================] - 0s 2ms/step - loss: 0.6398 - accuracy: 0.6836\n",
            "Epoch 16/50\n",
            "77/77 [==============================] - 0s 2ms/step - loss: 0.6319 - accuracy: 0.6823\n",
            "Epoch 17/50\n",
            "77/77 [==============================] - 0s 2ms/step - loss: 0.6298 - accuracy: 0.7083\n",
            "Epoch 18/50\n",
            "77/77 [==============================] - 0s 2ms/step - loss: 0.6158 - accuracy: 0.6914\n",
            "Epoch 19/50\n",
            "77/77 [==============================] - 0s 2ms/step - loss: 0.6079 - accuracy: 0.6992\n",
            "Epoch 20/50\n",
            "77/77 [==============================] - 0s 2ms/step - loss: 0.6009 - accuracy: 0.6888\n",
            "Epoch 21/50\n",
            "77/77 [==============================] - 0s 2ms/step - loss: 0.6205 - accuracy: 0.6862\n",
            "Epoch 22/50\n",
            "77/77 [==============================] - 0s 2ms/step - loss: 0.6025 - accuracy: 0.7018\n",
            "Epoch 23/50\n",
            "77/77 [==============================] - 0s 2ms/step - loss: 0.5983 - accuracy: 0.6927\n",
            "Epoch 24/50\n",
            "77/77 [==============================] - 0s 2ms/step - loss: 0.6055 - accuracy: 0.7018\n",
            "Epoch 25/50\n",
            "77/77 [==============================] - 0s 2ms/step - loss: 0.5933 - accuracy: 0.6953\n",
            "Epoch 26/50\n",
            "77/77 [==============================] - 0s 2ms/step - loss: 0.6320 - accuracy: 0.6927\n",
            "Epoch 27/50\n",
            "77/77 [==============================] - 0s 2ms/step - loss: 0.6022 - accuracy: 0.7018\n",
            "Epoch 28/50\n",
            "77/77 [==============================] - 0s 2ms/step - loss: 0.5727 - accuracy: 0.7201\n",
            "Epoch 29/50\n",
            "77/77 [==============================] - 0s 2ms/step - loss: 0.5883 - accuracy: 0.7044\n",
            "Epoch 30/50\n",
            "77/77 [==============================] - 0s 2ms/step - loss: 0.5877 - accuracy: 0.7018\n",
            "Epoch 31/50\n",
            "77/77 [==============================] - 0s 2ms/step - loss: 0.5778 - accuracy: 0.7148\n",
            "Epoch 32/50\n",
            "77/77 [==============================] - 0s 2ms/step - loss: 0.5656 - accuracy: 0.7240\n",
            "Epoch 33/50\n",
            "77/77 [==============================] - 0s 2ms/step - loss: 0.6092 - accuracy: 0.7279\n",
            "Epoch 34/50\n",
            "77/77 [==============================] - 0s 2ms/step - loss: 0.5967 - accuracy: 0.7031\n",
            "Epoch 35/50\n",
            "77/77 [==============================] - 0s 2ms/step - loss: 0.5711 - accuracy: 0.7201\n",
            "Epoch 36/50\n",
            "77/77 [==============================] - 0s 2ms/step - loss: 0.5548 - accuracy: 0.7227\n",
            "Epoch 37/50\n",
            "77/77 [==============================] - 0s 2ms/step - loss: 0.5600 - accuracy: 0.7227\n",
            "Epoch 38/50\n",
            "77/77 [==============================] - 0s 2ms/step - loss: 0.5514 - accuracy: 0.7253\n",
            "Epoch 39/50\n",
            "77/77 [==============================] - 0s 2ms/step - loss: 0.5543 - accuracy: 0.7135\n",
            "Epoch 40/50\n",
            "77/77 [==============================] - 0s 2ms/step - loss: 0.5786 - accuracy: 0.7044\n",
            "Epoch 41/50\n",
            "77/77 [==============================] - 0s 2ms/step - loss: 0.5843 - accuracy: 0.7135\n",
            "Epoch 42/50\n",
            "77/77 [==============================] - 0s 2ms/step - loss: 0.5495 - accuracy: 0.7318\n",
            "Epoch 43/50\n",
            "77/77 [==============================] - 0s 2ms/step - loss: 0.5507 - accuracy: 0.7344\n",
            "Epoch 44/50\n",
            "77/77 [==============================] - 0s 2ms/step - loss: 0.5563 - accuracy: 0.7331\n",
            "Epoch 45/50\n",
            "77/77 [==============================] - 0s 2ms/step - loss: 0.5786 - accuracy: 0.7174\n",
            "Epoch 46/50\n",
            "77/77 [==============================] - 0s 2ms/step - loss: 0.5511 - accuracy: 0.7370\n",
            "Epoch 47/50\n",
            "77/77 [==============================] - 0s 2ms/step - loss: 0.5386 - accuracy: 0.7174\n",
            "Epoch 48/50\n",
            "77/77 [==============================] - 0s 2ms/step - loss: 0.5855 - accuracy: 0.7266\n",
            "Epoch 49/50\n",
            "77/77 [==============================] - 0s 2ms/step - loss: 0.5536 - accuracy: 0.7318\n",
            "Epoch 50/50\n",
            "77/77 [==============================] - 0s 2ms/step - loss: 0.5575 - accuracy: 0.7305\n"
          ]
        }
      ],
      "source": [
        "# TRAIN (fit) the keras model on the dataset\n",
        "history = model.fit(X, y,\n",
        "                    epochs=50,\n",
        "                    batch_size=10,\n",
        "                    verbose=1)"
      ]
    },
    {
      "cell_type": "code",
      "execution_count": 37,
      "metadata": {
        "colab": {
          "base_uri": "https://localhost:8080/"
        },
        "id": "Cz1lNBgS2vHp",
        "outputId": "b63c81d6-ac44-42f3-9cb0-cd3d52d51660"
      },
      "outputs": [
        {
          "output_type": "stream",
          "name": "stdout",
          "text": [
            "24/24 [==============================] - 0s 1ms/step - loss: 0.5105 - accuracy: 0.7474\n",
            "Accuracy: 74.74\n"
          ]
        }
      ],
      "source": [
        "# EVALUATE the keras model\n",
        "_, accuracy = model.evaluate(X, y)\n",
        "\n",
        "print('Accuracy: %.2f' % (accuracy*100))"
      ]
    },
    {
      "cell_type": "code",
      "execution_count": 38,
      "metadata": {
        "colab": {
          "base_uri": "https://localhost:8080/",
          "height": 469
        },
        "id": "FCvcCjN74xGx",
        "outputId": "d6bbf646-ce6e-42b2-edc3-eb49685c1b21"
      },
      "outputs": [
        {
          "output_type": "display_data",
          "data": {
            "text/plain": [
              "<Figure size 640x480 with 1 Axes>"
            ],
            "image/png": "[encoded data removed]"
          },
          "metadata": {}
        },
        {
          "output_type": "stream",
          "name": "stdout",
          "text": [
            "\n"
          ]
        }
      ],
      "source": [
        "import matplotlib.pyplot as plt\n",
        "#-----------------------------------------------------------\n",
        "# Retrieve a list of list results on training and test data\n",
        "# sets for each training epoch\n",
        "#-----------------------------------------------------------\n",
        "acc=history.history['accuracy']\n",
        "loss=history.history['loss']\n",
        "\n",
        "epochs=range(len(acc)) # Get number of epochs\n",
        "\n",
        "#------------------------------------------------\n",
        "# Plot training accuracy per epoch\n",
        "#------------------------------------------------\n",
        "plt.plot(epochs, acc, 'r', \"Training Accuracy\")\n",
        "plt.title('Training accuracy')\n",
        "plt.show()\n",
        "print(\"\")"
      ]
    },
    {
      "cell_type": "code",
      "source": [
        "#------------------------------------------------\n",
        "# Plot training loss per epoch\n",
        "#------------------------------------------------\n",
        "plt.plot(epochs, loss, 'b', \"Training Loss\")\n",
        "plt.show()"
      ],
      "metadata": {
        "colab": {
          "base_uri": "https://localhost:8080/",
          "height": 430
        },
        "id": "d4M410CxPnvq",
        "outputId": "526a3380-4d33-4ad2-cc39-24077aefb75f"
      },
      "execution_count": 39,
      "outputs": [
        {
          "output_type": "display_data",
          "data": {
            "text/plain": [
              "<Figure size 640x480 with 1 Axes>"
            ],
            "image/png": "[encoded data removed]"
          },
          "metadata": {}
        }
      ]
    }
  ],
  "metadata": {
    "accelerator": "TPU",
    "colab": {
      "provenance": [],
      "gpuType": "V28"
    },
    "kernelspec": {
      "display_name": "Python 3",
      "name": "python3"
    },
    "language_info": {
      "name": "python"
    }
  },
  "nbformat": 4,
  "nbformat_minor": 0
}